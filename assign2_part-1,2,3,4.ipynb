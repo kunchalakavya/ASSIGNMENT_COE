{
 "cells": [
  {
   "cell_type": "markdown",
   "id": "a15bdfff-4e0f-418b-9481-b0c30e0c4636",
   "metadata": {},
   "source": [
    "PART-1"
   ]
  },
  {
   "cell_type": "code",
   "execution_count": 3,
   "id": "f159de4a-27d5-46c5-9d8b-54021d036d0c",
   "metadata": {},
   "outputs": [],
   "source": [
    "import pandas as pd  # load file\n",
    "store_sales=pd.read_csv('Desktop/store_sales _COE.csv')"
   ]
  },
  {
   "cell_type": "code",
   "execution_count": 4,
   "id": "872580e9-12b3-4d3f-9438-933bad0db0e9",
   "metadata": {},
   "outputs": [
    {
     "data": {
      "text/html": [
       "<div>\n",
       "<style scoped>\n",
       "    .dataframe tbody tr th:only-of-type {\n",
       "        vertical-align: middle;\n",
       "    }\n",
       "\n",
       "    .dataframe tbody tr th {\n",
       "        vertical-align: top;\n",
       "    }\n",
       "\n",
       "    .dataframe thead th {\n",
       "        text-align: right;\n",
       "    }\n",
       "</style>\n",
       "<table border=\"1\" class=\"dataframe\">\n",
       "  <thead>\n",
       "    <tr style=\"text-align: right;\">\n",
       "      <th></th>\n",
       "      <th>store_id</th>\n",
       "      <th>city</th>\n",
       "      <th>Jan</th>\n",
       "      <th>Feb</th>\n",
       "      <th>Mar</th>\n",
       "      <th>Apr</th>\n",
       "      <th>May</th>\n",
       "      <th>Jun</th>\n",
       "      <th>July</th>\n",
       "      <th>Aug</th>\n",
       "      <th>Sep</th>\n",
       "      <th>Oct</th>\n",
       "      <th>Nov</th>\n",
       "      <th>Dec</th>\n",
       "    </tr>\n",
       "  </thead>\n",
       "  <tbody>\n",
       "    <tr>\n",
       "      <th>95</th>\n",
       "      <td>S_96</td>\n",
       "      <td>Texas</td>\n",
       "      <td>7</td>\n",
       "      <td>10</td>\n",
       "      <td>20</td>\n",
       "      <td>20</td>\n",
       "      <td>10</td>\n",
       "      <td>15</td>\n",
       "      <td>15</td>\n",
       "      <td>21</td>\n",
       "      <td>15</td>\n",
       "      <td>7</td>\n",
       "      <td>23</td>\n",
       "      <td>22</td>\n",
       "    </tr>\n",
       "    <tr>\n",
       "      <th>96</th>\n",
       "      <td>S_97</td>\n",
       "      <td>California</td>\n",
       "      <td>13</td>\n",
       "      <td>6</td>\n",
       "      <td>7</td>\n",
       "      <td>15</td>\n",
       "      <td>22</td>\n",
       "      <td>10</td>\n",
       "      <td>21</td>\n",
       "      <td>23</td>\n",
       "      <td>10</td>\n",
       "      <td>6</td>\n",
       "      <td>12</td>\n",
       "      <td>9</td>\n",
       "    </tr>\n",
       "    <tr>\n",
       "      <th>97</th>\n",
       "      <td>S_98</td>\n",
       "      <td>Texas</td>\n",
       "      <td>16</td>\n",
       "      <td>9</td>\n",
       "      <td>6</td>\n",
       "      <td>14</td>\n",
       "      <td>20</td>\n",
       "      <td>13</td>\n",
       "      <td>11</td>\n",
       "      <td>10</td>\n",
       "      <td>8</td>\n",
       "      <td>22</td>\n",
       "      <td>17</td>\n",
       "      <td>22</td>\n",
       "    </tr>\n",
       "    <tr>\n",
       "      <th>98</th>\n",
       "      <td>S_99</td>\n",
       "      <td>Arizona</td>\n",
       "      <td>18</td>\n",
       "      <td>16</td>\n",
       "      <td>9</td>\n",
       "      <td>5</td>\n",
       "      <td>12</td>\n",
       "      <td>22</td>\n",
       "      <td>11</td>\n",
       "      <td>13</td>\n",
       "      <td>21</td>\n",
       "      <td>17</td>\n",
       "      <td>19</td>\n",
       "      <td>10</td>\n",
       "    </tr>\n",
       "    <tr>\n",
       "      <th>99</th>\n",
       "      <td>S_100</td>\n",
       "      <td>California</td>\n",
       "      <td>5</td>\n",
       "      <td>23</td>\n",
       "      <td>17</td>\n",
       "      <td>24</td>\n",
       "      <td>15</td>\n",
       "      <td>21</td>\n",
       "      <td>19</td>\n",
       "      <td>10</td>\n",
       "      <td>12</td>\n",
       "      <td>20</td>\n",
       "      <td>5</td>\n",
       "      <td>9</td>\n",
       "    </tr>\n",
       "  </tbody>\n",
       "</table>\n",
       "</div>"
      ],
      "text/plain": [
       "   store_id        city  Jan  Feb  Mar  Apr  May  Jun  July  Aug  Sep  Oct  \\\n",
       "95     S_96       Texas    7   10   20   20   10   15    15   21   15    7   \n",
       "96     S_97  California   13    6    7   15   22   10    21   23   10    6   \n",
       "97     S_98       Texas   16    9    6   14   20   13    11   10    8   22   \n",
       "98     S_99     Arizona   18   16    9    5   12   22    11   13   21   17   \n",
       "99    S_100  California    5   23   17   24   15   21    19   10   12   20   \n",
       "\n",
       "    Nov  Dec  \n",
       "95   23   22  \n",
       "96   12    9  \n",
       "97   17   22  \n",
       "98   19   10  \n",
       "99    5    9  "
      ]
     },
     "execution_count": 4,
     "metadata": {},
     "output_type": "execute_result"
    }
   ],
   "source": [
    "store_sales.head(5) # displays first 5 rows\n",
    "store_sales.tail(5) # displays first 5 cols"
   ]
  },
  {
   "cell_type": "code",
   "execution_count": 5,
   "id": "0c7d0d67-653e-458b-9228-c50662e2373a",
   "metadata": {},
   "outputs": [
    {
     "name": "stdout",
     "output_type": "stream",
     "text": [
      "(100, 14)\n",
      "store_id    object\n",
      "city        object\n",
      "Jan          int64\n",
      "Feb          int64\n",
      "Mar          int64\n",
      "Apr          int64\n",
      "May          int64\n",
      "Jun          int64\n",
      "July         int64\n",
      "Aug          int64\n",
      "Sep          int64\n",
      "Oct          int64\n",
      "Nov          int64\n",
      "Dec          int64\n",
      "dtype: object\n",
      "store_id    100\n",
      "city        100\n",
      "Jan         100\n",
      "Feb         100\n",
      "Mar         100\n",
      "Apr         100\n",
      "May         100\n",
      "Jun         100\n",
      "July        100\n",
      "Aug         100\n",
      "Sep         100\n",
      "Oct         100\n",
      "Nov         100\n",
      "Dec         100\n",
      "dtype: int64\n"
     ]
    }
   ],
   "source": [
    "print(store_sales.shape) # displays count of rows and cols\n",
    "print(store_sales.dtypes) # displays dtpes\n",
    "print(store_sales.count()) # not null count"
   ]
  },
  {
   "cell_type": "code",
   "execution_count": 6,
   "id": "fcca39d0-53c0-41ac-8a4c-b508be0597b3",
   "metadata": {},
   "outputs": [
    {
     "name": "stdout",
     "output_type": "stream",
     "text": [
      "['store_id', 'city', 'Jan', 'Feb', 'Mar', 'Apr', 'May', 'Jun', 'July', 'Aug', 'Sep', 'Oct', 'Nov', 'Dec']\n",
      "              Jan         Feb         Mar         Apr         May         Jun  \\\n",
      "count  100.000000  100.000000  100.000000  100.000000  100.000000  100.000000   \n",
      "mean    14.460000   15.090000   14.560000   14.570000   13.560000   13.800000   \n",
      "std      5.712683    6.055459    5.782803    4.965039    5.883241    5.962848   \n",
      "min      5.000000    5.000000    5.000000    5.000000    5.000000    5.000000   \n",
      "25%     10.000000    9.000000    9.750000   11.000000    8.000000    9.000000   \n",
      "50%     15.000000   16.000000   15.000000   14.500000   13.000000   13.500000   \n",
      "75%     19.000000   21.000000   19.250000   19.000000   19.000000   19.000000   \n",
      "max     24.000000   24.000000   24.000000   24.000000   24.000000   24.000000   \n",
      "\n",
      "             July         Aug         Sep        Oct         Nov         Dec  \n",
      "count  100.000000  100.000000  100.000000  100.00000  100.000000  100.000000  \n",
      "mean    14.380000   15.810000   14.910000   14.10000   15.310000   13.570000  \n",
      "std      5.566458    6.152432    5.284043    5.87496    6.461533    5.852143  \n",
      "min      5.000000    5.000000    5.000000    5.00000    5.000000    5.000000  \n",
      "25%     10.000000   11.000000   11.000000    9.00000   10.000000    8.000000  \n",
      "50%     15.000000   17.000000   14.500000   14.00000   16.000000   13.000000  \n",
      "75%     19.000000   21.000000   19.000000   19.00000   21.250000   19.000000  \n",
      "max     24.000000   24.000000   24.000000   24.00000   24.000000   24.000000  \n"
     ]
    }
   ],
   "source": [
    "print(store_sales.columns.tolist()) # columns names\n",
    "print(store_sales.describe())  # statistical info of columns"
   ]
  },
  {
   "cell_type": "code",
   "execution_count": 7,
   "id": "0d16b642-4f65-4057-a7f5-e43c311607c3",
   "metadata": {},
   "outputs": [
    {
     "data": {
      "text/plain": [
       "Jan    1446\n",
       "Feb    1509\n",
       "Mar    1456\n",
       "Apr    1457\n",
       "dtype: int64"
      ]
     },
     "execution_count": 7,
     "metadata": {},
     "output_type": "execute_result"
    }
   ],
   "source": [
    "total=store_sales[['Jan','Feb','Mar','Apr']].sum() # sum of sales from jan-apr\n",
    "total "
   ]
  },
  {
   "cell_type": "code",
   "execution_count": 8,
   "id": "730bcd3b-68d2-4a9b-a888-8c005efcedc4",
   "metadata": {},
   "outputs": [
    {
     "data": {
      "text/plain": [
       "Jan    14.46\n",
       "Feb    15.09\n",
       "Mar    14.56\n",
       "Apr    14.57\n",
       "dtype: float64"
      ]
     },
     "execution_count": 8,
     "metadata": {},
     "output_type": "execute_result"
    }
   ],
   "source": [
    "avg=store_sales[['Jan','Feb','Mar','Apr']].mean() # avg of sales from jan-apr\n",
    "avg"
   ]
  },
  {
   "cell_type": "code",
   "execution_count": 9,
   "id": "207c0233-02cc-4664-b1db-c48e29148bcf",
   "metadata": {},
   "outputs": [
    {
     "data": {
      "text/plain": [
       "0     178\n",
       "1     174\n",
       "2     181\n",
       "3     135\n",
       "4     159\n",
       "     ... \n",
       "95    185\n",
       "96    154\n",
       "97    168\n",
       "98    173\n",
       "99    180\n",
       "Length: 100, dtype: int64"
      ]
     },
     "execution_count": 9,
     "metadata": {},
     "output_type": "execute_result"
    }
   ],
   "source": [
    "Year= store_sales[['Jan', 'Feb', 'Mar', 'Apr', 'May', 'Jun', 'July', 'Aug', 'Sep', 'Oct', 'Nov', 'Dec']].sum(axis=1) # year sales of all stores--> axis=1--cols\n",
    "Year\n"
   ]
  },
  {
   "cell_type": "markdown",
   "id": "9c2215d6-f0be-4fef-b8a9-09ff3584f376",
   "metadata": {},
   "source": [
    "PART-2"
   ]
  },
  {
   "cell_type": "code",
   "execution_count": 10,
   "id": "a30f74f6-f218-4020-8b7f-8b3b267c8ad1",
   "metadata": {},
   "outputs": [
    {
     "data": {
      "text/html": [
       "<div>\n",
       "<style scoped>\n",
       "    .dataframe tbody tr th:only-of-type {\n",
       "        vertical-align: middle;\n",
       "    }\n",
       "\n",
       "    .dataframe tbody tr th {\n",
       "        vertical-align: top;\n",
       "    }\n",
       "\n",
       "    .dataframe thead th {\n",
       "        text-align: right;\n",
       "    }\n",
       "</style>\n",
       "<table border=\"1\" class=\"dataframe\">\n",
       "  <thead>\n",
       "    <tr style=\"text-align: right;\">\n",
       "      <th></th>\n",
       "      <th>Jan</th>\n",
       "      <th>Feb</th>\n",
       "      <th>Mar</th>\n",
       "      <th>Apr</th>\n",
       "      <th>May</th>\n",
       "      <th>Jun</th>\n",
       "      <th>July</th>\n",
       "      <th>Aug</th>\n",
       "      <th>Sep</th>\n",
       "      <th>Oct</th>\n",
       "      <th>Nov</th>\n",
       "      <th>Dec</th>\n",
       "    </tr>\n",
       "    <tr>\n",
       "      <th>city</th>\n",
       "      <th></th>\n",
       "      <th></th>\n",
       "      <th></th>\n",
       "      <th></th>\n",
       "      <th></th>\n",
       "      <th></th>\n",
       "      <th></th>\n",
       "      <th></th>\n",
       "      <th></th>\n",
       "      <th></th>\n",
       "      <th></th>\n",
       "      <th></th>\n",
       "    </tr>\n",
       "  </thead>\n",
       "  <tbody>\n",
       "    <tr>\n",
       "      <th>Arizona</th>\n",
       "      <td>341</td>\n",
       "      <td>336</td>\n",
       "      <td>320</td>\n",
       "      <td>329</td>\n",
       "      <td>310</td>\n",
       "      <td>332</td>\n",
       "      <td>322</td>\n",
       "      <td>341</td>\n",
       "      <td>337</td>\n",
       "      <td>329</td>\n",
       "      <td>361</td>\n",
       "      <td>293</td>\n",
       "    </tr>\n",
       "    <tr>\n",
       "      <th>California</th>\n",
       "      <td>634</td>\n",
       "      <td>668</td>\n",
       "      <td>629</td>\n",
       "      <td>601</td>\n",
       "      <td>570</td>\n",
       "      <td>589</td>\n",
       "      <td>637</td>\n",
       "      <td>698</td>\n",
       "      <td>640</td>\n",
       "      <td>614</td>\n",
       "      <td>657</td>\n",
       "      <td>585</td>\n",
       "    </tr>\n",
       "    <tr>\n",
       "      <th>Texas</th>\n",
       "      <td>471</td>\n",
       "      <td>505</td>\n",
       "      <td>507</td>\n",
       "      <td>527</td>\n",
       "      <td>476</td>\n",
       "      <td>459</td>\n",
       "      <td>479</td>\n",
       "      <td>542</td>\n",
       "      <td>514</td>\n",
       "      <td>467</td>\n",
       "      <td>513</td>\n",
       "      <td>479</td>\n",
       "    </tr>\n",
       "  </tbody>\n",
       "</table>\n",
       "</div>"
      ],
      "text/plain": [
       "            Jan  Feb  Mar  Apr  May  Jun  July  Aug  Sep  Oct  Nov  Dec\n",
       "city                                                                   \n",
       "Arizona     341  336  320  329  310  332   322  341  337  329  361  293\n",
       "California  634  668  629  601  570  589   637  698  640  614  657  585\n",
       "Texas       471  505  507  527  476  459   479  542  514  467  513  479"
      ]
     },
     "execution_count": 10,
     "metadata": {},
     "output_type": "execute_result"
    }
   ],
   "source": [
    "month = store_sales.groupby('city')[['Jan', 'Feb', 'Mar', 'Apr', 'May', 'Jun', 'July', 'Aug', 'Sep', 'Oct', 'Nov', 'Dec']].sum() # each month total sales of cities\n",
    "month\n"
   ]
  },
  {
   "cell_type": "code",
   "execution_count": 11,
   "id": "e89546d0-08d1-4801-8a67-f4b9996fcc69",
   "metadata": {},
   "outputs": [
    {
     "data": {
      "text/html": [
       "<div>\n",
       "<style scoped>\n",
       "    .dataframe tbody tr th:only-of-type {\n",
       "        vertical-align: middle;\n",
       "    }\n",
       "\n",
       "    .dataframe tbody tr th {\n",
       "        vertical-align: top;\n",
       "    }\n",
       "\n",
       "    .dataframe thead th {\n",
       "        text-align: right;\n",
       "    }\n",
       "</style>\n",
       "<table border=\"1\" class=\"dataframe\">\n",
       "  <thead>\n",
       "    <tr style=\"text-align: right;\">\n",
       "      <th></th>\n",
       "      <th>Jan</th>\n",
       "      <th>Feb</th>\n",
       "      <th>Mar</th>\n",
       "      <th>Apr</th>\n",
       "      <th>May</th>\n",
       "      <th>Jun</th>\n",
       "      <th>July</th>\n",
       "      <th>Aug</th>\n",
       "      <th>Sep</th>\n",
       "      <th>Oct</th>\n",
       "      <th>Nov</th>\n",
       "      <th>Dec</th>\n",
       "    </tr>\n",
       "    <tr>\n",
       "      <th>city</th>\n",
       "      <th></th>\n",
       "      <th></th>\n",
       "      <th></th>\n",
       "      <th></th>\n",
       "      <th></th>\n",
       "      <th></th>\n",
       "      <th></th>\n",
       "      <th></th>\n",
       "      <th></th>\n",
       "      <th></th>\n",
       "      <th></th>\n",
       "      <th></th>\n",
       "    </tr>\n",
       "  </thead>\n",
       "  <tbody>\n",
       "    <tr>\n",
       "      <th>Arizona</th>\n",
       "      <td>15.500000</td>\n",
       "      <td>15.272727</td>\n",
       "      <td>14.545455</td>\n",
       "      <td>14.954545</td>\n",
       "      <td>14.090909</td>\n",
       "      <td>15.090909</td>\n",
       "      <td>14.636364</td>\n",
       "      <td>15.500000</td>\n",
       "      <td>15.318182</td>\n",
       "      <td>14.954545</td>\n",
       "      <td>16.409091</td>\n",
       "      <td>13.318182</td>\n",
       "    </tr>\n",
       "    <tr>\n",
       "      <th>California</th>\n",
       "      <td>14.744186</td>\n",
       "      <td>15.534884</td>\n",
       "      <td>14.627907</td>\n",
       "      <td>13.976744</td>\n",
       "      <td>13.255814</td>\n",
       "      <td>13.697674</td>\n",
       "      <td>14.813953</td>\n",
       "      <td>16.232558</td>\n",
       "      <td>14.883721</td>\n",
       "      <td>14.279070</td>\n",
       "      <td>15.279070</td>\n",
       "      <td>13.604651</td>\n",
       "    </tr>\n",
       "    <tr>\n",
       "      <th>Texas</th>\n",
       "      <td>13.457143</td>\n",
       "      <td>14.428571</td>\n",
       "      <td>14.485714</td>\n",
       "      <td>15.057143</td>\n",
       "      <td>13.600000</td>\n",
       "      <td>13.114286</td>\n",
       "      <td>13.685714</td>\n",
       "      <td>15.485714</td>\n",
       "      <td>14.685714</td>\n",
       "      <td>13.342857</td>\n",
       "      <td>14.657143</td>\n",
       "      <td>13.685714</td>\n",
       "    </tr>\n",
       "  </tbody>\n",
       "</table>\n",
       "</div>"
      ],
      "text/plain": [
       "                  Jan        Feb        Mar        Apr        May        Jun  \\\n",
       "city                                                                           \n",
       "Arizona     15.500000  15.272727  14.545455  14.954545  14.090909  15.090909   \n",
       "California  14.744186  15.534884  14.627907  13.976744  13.255814  13.697674   \n",
       "Texas       13.457143  14.428571  14.485714  15.057143  13.600000  13.114286   \n",
       "\n",
       "                 July        Aug        Sep        Oct        Nov        Dec  \n",
       "city                                                                          \n",
       "Arizona     14.636364  15.500000  15.318182  14.954545  16.409091  13.318182  \n",
       "California  14.813953  16.232558  14.883721  14.279070  15.279070  13.604651  \n",
       "Texas       13.685714  15.485714  14.685714  13.342857  14.657143  13.685714  "
      ]
     },
     "execution_count": 11,
     "metadata": {},
     "output_type": "execute_result"
    }
   ],
   "source": [
    "avg_month = store_sales.groupby('city')[['Jan', 'Feb', 'Mar', 'Apr', 'May', 'Jun','July', 'Aug', 'Sep', 'Oct', 'Nov', 'Dec']].mean() # ecah month avg sales of cities \n",
    "avg_month"
   ]
  },
  {
   "cell_type": "code",
   "execution_count": 12,
   "id": "351f03f8-e990-4354-826a-1c4cb6cade8c",
   "metadata": {},
   "outputs": [
    {
     "name": "stdout",
     "output_type": "stream",
     "text": [
      "highest average sales: Arizona(14.965909090909092)\n"
     ]
    }
   ],
   "source": [
    "avg_month['Overall_Avg'] = avg_month.mean(axis=1)\n",
    "highest_city = avg_month['Overall_Avg'].idxmax() # City with the highest average sales\n",
    "highest_value = avg_month['Overall_Avg'].max()   # avg sales value\n",
    "print(f\"highest average sales: {highest_city}({highest_value})\")\n"
   ]
  },
  {
   "cell_type": "code",
   "execution_count": 15,
   "id": "b8d06ec5-e8eb-4add-b575-205adbb0e392",
   "metadata": {},
   "outputs": [
    {
     "name": "stdout",
     "output_type": "stream",
     "text": [
      "lowest total sales: Texas(551.4785714285713)\n"
     ]
    }
   ],
   "source": [
    "avg_month['total'] = avg_month.sum(axis=1)\n",
    "lowest_city = avg_month['total'].idxmin() # City with the lowest total sales\n",
    "lowest_value = avg_month['total'].min()   # total sales value\n",
    "print(f\"lowest total sales: {lowest_city}({lowest_value})\")"
   ]
  },
  {
   "cell_type": "code",
   "execution_count": 24,
   "id": "6d9867a7-ec66-49cf-9b06-6abf11226858",
   "metadata": {},
   "outputs": [
    {
     "data": {
      "text/html": [
       "<div>\n",
       "<style scoped>\n",
       "    .dataframe tbody tr th:only-of-type {\n",
       "        vertical-align: middle;\n",
       "    }\n",
       "\n",
       "    .dataframe tbody tr th {\n",
       "        vertical-align: top;\n",
       "    }\n",
       "\n",
       "    .dataframe thead th {\n",
       "        text-align: right;\n",
       "    }\n",
       "</style>\n",
       "<table border=\"1\" class=\"dataframe\">\n",
       "  <thead>\n",
       "    <tr style=\"text-align: right;\">\n",
       "      <th></th>\n",
       "      <th>store_id</th>\n",
       "      <th>city</th>\n",
       "      <th>Jan</th>\n",
       "      <th>Feb</th>\n",
       "      <th>Mar</th>\n",
       "      <th>Apr</th>\n",
       "      <th>May</th>\n",
       "      <th>Jun</th>\n",
       "      <th>July</th>\n",
       "      <th>Aug</th>\n",
       "      <th>Sep</th>\n",
       "      <th>Oct</th>\n",
       "      <th>Nov</th>\n",
       "      <th>Dec</th>\n",
       "      <th>total_sales</th>\n",
       "    </tr>\n",
       "  </thead>\n",
       "  <tbody>\n",
       "    <tr>\n",
       "      <th>72</th>\n",
       "      <td>S_73</td>\n",
       "      <td>California</td>\n",
       "      <td>20</td>\n",
       "      <td>24</td>\n",
       "      <td>24</td>\n",
       "      <td>18</td>\n",
       "      <td>7</td>\n",
       "      <td>22</td>\n",
       "      <td>12</td>\n",
       "      <td>21</td>\n",
       "      <td>20</td>\n",
       "      <td>18</td>\n",
       "      <td>21</td>\n",
       "      <td>6</td>\n",
       "      <td>86</td>\n",
       "    </tr>\n",
       "    <tr>\n",
       "      <th>77</th>\n",
       "      <td>S_78</td>\n",
       "      <td>Arizona</td>\n",
       "      <td>19</td>\n",
       "      <td>23</td>\n",
       "      <td>19</td>\n",
       "      <td>24</td>\n",
       "      <td>13</td>\n",
       "      <td>12</td>\n",
       "      <td>24</td>\n",
       "      <td>17</td>\n",
       "      <td>22</td>\n",
       "      <td>16</td>\n",
       "      <td>17</td>\n",
       "      <td>5</td>\n",
       "      <td>85</td>\n",
       "    </tr>\n",
       "    <tr>\n",
       "      <th>69</th>\n",
       "      <td>S_70</td>\n",
       "      <td>Texas</td>\n",
       "      <td>24</td>\n",
       "      <td>16</td>\n",
       "      <td>24</td>\n",
       "      <td>20</td>\n",
       "      <td>14</td>\n",
       "      <td>21</td>\n",
       "      <td>15</td>\n",
       "      <td>13</td>\n",
       "      <td>18</td>\n",
       "      <td>22</td>\n",
       "      <td>10</td>\n",
       "      <td>9</td>\n",
       "      <td>84</td>\n",
       "    </tr>\n",
       "  </tbody>\n",
       "</table>\n",
       "</div>"
      ],
      "text/plain": [
       "   store_id        city  Jan  Feb  Mar  Apr  May  Jun  July  Aug  Sep  Oct  \\\n",
       "72     S_73  California   20   24   24   18    7   22    12   21   20   18   \n",
       "77     S_78     Arizona   19   23   19   24   13   12    24   17   22   16   \n",
       "69     S_70       Texas   24   16   24   20   14   21    15   13   18   22   \n",
       "\n",
       "    Nov  Dec  total_sales  \n",
       "72   21    6           86  \n",
       "77   17    5           85  \n",
       "69   10    9           84  "
      ]
     },
     "execution_count": 24,
     "metadata": {},
     "output_type": "execute_result"
    }
   ],
   "source": [
    "store_sales['total_sales']=store_sales[['Jan','Feb','Mar','Apr']].sum(axis=1) # total_sales by adding jan+Feb+Mar+Apr\n",
    "sales = store_sales.sort_values(by='total_sales', ascending=False)    # sort by total_sales value and display top3\n",
    "sales.head(3)"
   ]
  },
  {
   "cell_type": "markdown",
   "id": "e42e9352-b892-4713-95cc-44d3ca599c96",
   "metadata": {},
   "source": [
    "PART-3"
   ]
  },
  {
   "cell_type": "code",
   "execution_count": 25,
   "id": "f0b38354-6d33-4de1-a08e-704f746fb351",
   "metadata": {},
   "outputs": [
    {
     "data": {
      "text/html": [
       "<div>\n",
       "<style scoped>\n",
       "    .dataframe tbody tr th:only-of-type {\n",
       "        vertical-align: middle;\n",
       "    }\n",
       "\n",
       "    .dataframe tbody tr th {\n",
       "        vertical-align: top;\n",
       "    }\n",
       "\n",
       "    .dataframe thead th {\n",
       "        text-align: right;\n",
       "    }\n",
       "</style>\n",
       "<table border=\"1\" class=\"dataframe\">\n",
       "  <thead>\n",
       "    <tr style=\"text-align: right;\">\n",
       "      <th></th>\n",
       "      <th>store_id</th>\n",
       "      <th>city</th>\n",
       "      <th>Jan</th>\n",
       "      <th>Feb</th>\n",
       "      <th>Mar</th>\n",
       "      <th>Apr</th>\n",
       "      <th>May</th>\n",
       "      <th>Jun</th>\n",
       "      <th>July</th>\n",
       "      <th>Aug</th>\n",
       "      <th>Sep</th>\n",
       "      <th>Oct</th>\n",
       "      <th>Nov</th>\n",
       "      <th>Dec</th>\n",
       "      <th>total_sales</th>\n",
       "    </tr>\n",
       "  </thead>\n",
       "  <tbody>\n",
       "    <tr>\n",
       "      <th>72</th>\n",
       "      <td>S_73</td>\n",
       "      <td>California</td>\n",
       "      <td>20</td>\n",
       "      <td>24</td>\n",
       "      <td>24</td>\n",
       "      <td>18</td>\n",
       "      <td>7</td>\n",
       "      <td>22</td>\n",
       "      <td>12</td>\n",
       "      <td>21</td>\n",
       "      <td>20</td>\n",
       "      <td>18</td>\n",
       "      <td>21</td>\n",
       "      <td>6</td>\n",
       "      <td>86</td>\n",
       "    </tr>\n",
       "    <tr>\n",
       "      <th>77</th>\n",
       "      <td>S_78</td>\n",
       "      <td>Arizona</td>\n",
       "      <td>19</td>\n",
       "      <td>23</td>\n",
       "      <td>19</td>\n",
       "      <td>24</td>\n",
       "      <td>13</td>\n",
       "      <td>12</td>\n",
       "      <td>24</td>\n",
       "      <td>17</td>\n",
       "      <td>22</td>\n",
       "      <td>16</td>\n",
       "      <td>17</td>\n",
       "      <td>5</td>\n",
       "      <td>85</td>\n",
       "    </tr>\n",
       "    <tr>\n",
       "      <th>69</th>\n",
       "      <td>S_70</td>\n",
       "      <td>Texas</td>\n",
       "      <td>24</td>\n",
       "      <td>16</td>\n",
       "      <td>24</td>\n",
       "      <td>20</td>\n",
       "      <td>14</td>\n",
       "      <td>21</td>\n",
       "      <td>15</td>\n",
       "      <td>13</td>\n",
       "      <td>18</td>\n",
       "      <td>22</td>\n",
       "      <td>10</td>\n",
       "      <td>9</td>\n",
       "      <td>84</td>\n",
       "    </tr>\n",
       "    <tr>\n",
       "      <th>26</th>\n",
       "      <td>S_27</td>\n",
       "      <td>California</td>\n",
       "      <td>24</td>\n",
       "      <td>19</td>\n",
       "      <td>13</td>\n",
       "      <td>24</td>\n",
       "      <td>8</td>\n",
       "      <td>12</td>\n",
       "      <td>6</td>\n",
       "      <td>21</td>\n",
       "      <td>10</td>\n",
       "      <td>10</td>\n",
       "      <td>12</td>\n",
       "      <td>20</td>\n",
       "      <td>80</td>\n",
       "    </tr>\n",
       "    <tr>\n",
       "      <th>85</th>\n",
       "      <td>S_86</td>\n",
       "      <td>California</td>\n",
       "      <td>15</td>\n",
       "      <td>23</td>\n",
       "      <td>24</td>\n",
       "      <td>18</td>\n",
       "      <td>21</td>\n",
       "      <td>17</td>\n",
       "      <td>23</td>\n",
       "      <td>13</td>\n",
       "      <td>12</td>\n",
       "      <td>11</td>\n",
       "      <td>24</td>\n",
       "      <td>13</td>\n",
       "      <td>80</td>\n",
       "    </tr>\n",
       "  </tbody>\n",
       "</table>\n",
       "</div>"
      ],
      "text/plain": [
       "   store_id        city  Jan  Feb  Mar  Apr  May  Jun  July  Aug  Sep  Oct  \\\n",
       "72     S_73  California   20   24   24   18    7   22    12   21   20   18   \n",
       "77     S_78     Arizona   19   23   19   24   13   12    24   17   22   16   \n",
       "69     S_70       Texas   24   16   24   20   14   21    15   13   18   22   \n",
       "26     S_27  California   24   19   13   24    8   12     6   21   10   10   \n",
       "85     S_86  California   15   23   24   18   21   17    23   13   12   11   \n",
       "\n",
       "    Nov  Dec  total_sales  \n",
       "72   21    6           86  \n",
       "77   17    5           85  \n",
       "69   10    9           84  \n",
       "26   12   20           80  \n",
       "85   24   13           80  "
      ]
     },
     "execution_count": 25,
     "metadata": {},
     "output_type": "execute_result"
    }
   ],
   "source": [
    "sales.head(5) # top 5 highest by total_sales"
   ]
  },
  {
   "cell_type": "code",
   "execution_count": 28,
   "id": "df2bd739-7f70-4c54-98de-08889d9962c8",
   "metadata": {},
   "outputs": [
    {
     "data": {
      "text/html": [
       "<div>\n",
       "<style scoped>\n",
       "    .dataframe tbody tr th:only-of-type {\n",
       "        vertical-align: middle;\n",
       "    }\n",
       "\n",
       "    .dataframe tbody tr th {\n",
       "        vertical-align: top;\n",
       "    }\n",
       "\n",
       "    .dataframe thead th {\n",
       "        text-align: right;\n",
       "    }\n",
       "</style>\n",
       "<table border=\"1\" class=\"dataframe\">\n",
       "  <thead>\n",
       "    <tr style=\"text-align: right;\">\n",
       "      <th></th>\n",
       "      <th>store_id</th>\n",
       "      <th>city</th>\n",
       "      <th>Jan</th>\n",
       "      <th>Feb</th>\n",
       "      <th>Mar</th>\n",
       "      <th>Apr</th>\n",
       "      <th>May</th>\n",
       "      <th>Jun</th>\n",
       "      <th>July</th>\n",
       "      <th>Aug</th>\n",
       "      <th>Sep</th>\n",
       "      <th>Oct</th>\n",
       "      <th>Nov</th>\n",
       "      <th>Dec</th>\n",
       "      <th>total_sales</th>\n",
       "    </tr>\n",
       "  </thead>\n",
       "  <tbody>\n",
       "    <tr>\n",
       "      <th>96</th>\n",
       "      <td>S_97</td>\n",
       "      <td>California</td>\n",
       "      <td>13</td>\n",
       "      <td>6</td>\n",
       "      <td>7</td>\n",
       "      <td>15</td>\n",
       "      <td>22</td>\n",
       "      <td>10</td>\n",
       "      <td>21</td>\n",
       "      <td>23</td>\n",
       "      <td>10</td>\n",
       "      <td>6</td>\n",
       "      <td>12</td>\n",
       "      <td>9</td>\n",
       "      <td>41</td>\n",
       "    </tr>\n",
       "    <tr>\n",
       "      <th>82</th>\n",
       "      <td>S_83</td>\n",
       "      <td>California</td>\n",
       "      <td>16</td>\n",
       "      <td>5</td>\n",
       "      <td>6</td>\n",
       "      <td>12</td>\n",
       "      <td>20</td>\n",
       "      <td>21</td>\n",
       "      <td>17</td>\n",
       "      <td>6</td>\n",
       "      <td>12</td>\n",
       "      <td>9</td>\n",
       "      <td>22</td>\n",
       "      <td>15</td>\n",
       "      <td>39</td>\n",
       "    </tr>\n",
       "    <tr>\n",
       "      <th>21</th>\n",
       "      <td>S_22</td>\n",
       "      <td>Texas</td>\n",
       "      <td>12</td>\n",
       "      <td>8</td>\n",
       "      <td>6</td>\n",
       "      <td>13</td>\n",
       "      <td>12</td>\n",
       "      <td>10</td>\n",
       "      <td>11</td>\n",
       "      <td>11</td>\n",
       "      <td>15</td>\n",
       "      <td>23</td>\n",
       "      <td>9</td>\n",
       "      <td>16</td>\n",
       "      <td>39</td>\n",
       "    </tr>\n",
       "    <tr>\n",
       "      <th>18</th>\n",
       "      <td>S_19</td>\n",
       "      <td>California</td>\n",
       "      <td>7</td>\n",
       "      <td>6</td>\n",
       "      <td>17</td>\n",
       "      <td>8</td>\n",
       "      <td>21</td>\n",
       "      <td>11</td>\n",
       "      <td>20</td>\n",
       "      <td>9</td>\n",
       "      <td>11</td>\n",
       "      <td>22</td>\n",
       "      <td>21</td>\n",
       "      <td>8</td>\n",
       "      <td>38</td>\n",
       "    </tr>\n",
       "    <tr>\n",
       "      <th>90</th>\n",
       "      <td>S_91</td>\n",
       "      <td>Texas</td>\n",
       "      <td>14</td>\n",
       "      <td>5</td>\n",
       "      <td>5</td>\n",
       "      <td>9</td>\n",
       "      <td>18</td>\n",
       "      <td>6</td>\n",
       "      <td>11</td>\n",
       "      <td>13</td>\n",
       "      <td>17</td>\n",
       "      <td>9</td>\n",
       "      <td>10</td>\n",
       "      <td>15</td>\n",
       "      <td>33</td>\n",
       "    </tr>\n",
       "  </tbody>\n",
       "</table>\n",
       "</div>"
      ],
      "text/plain": [
       "   store_id        city  Jan  Feb  Mar  Apr  May  Jun  July  Aug  Sep  Oct  \\\n",
       "96     S_97  California   13    6    7   15   22   10    21   23   10    6   \n",
       "82     S_83  California   16    5    6   12   20   21    17    6   12    9   \n",
       "21     S_22       Texas   12    8    6   13   12   10    11   11   15   23   \n",
       "18     S_19  California    7    6   17    8   21   11    20    9   11   22   \n",
       "90     S_91       Texas   14    5    5    9   18    6    11   13   17    9   \n",
       "\n",
       "    Nov  Dec  total_sales  \n",
       "96   12    9           41  \n",
       "82   22   15           39  \n",
       "21    9   16           39  \n",
       "18   21    8           38  \n",
       "90   10   15           33  "
      ]
     },
     "execution_count": 28,
     "metadata": {},
     "output_type": "execute_result"
    }
   ],
   "source": [
    "sales_lowest= store_sales.sort_values(by='total_sales', ascending=False)  # bottom 5 rows with lowest sales\n",
    "sales_lowest.tail(5) \n"
   ]
  },
  {
   "cell_type": "code",
   "execution_count": 32,
   "id": "8788defc-6b77-49cb-a8ab-3c29a47e355e",
   "metadata": {},
   "outputs": [
    {
     "name": "stdout",
     "output_type": "stream",
     "text": [
      "Texas (-->24)\n"
     ]
    }
   ],
   "source": [
    "max_store = store_sales.loc[store_sales['Mar'].idxmax()] # max march city value \n",
    "print(f\"{max_store['city']} (-->{max_store['Mar']})\")\n"
   ]
  },
  {
   "cell_type": "code",
   "execution_count": 33,
   "id": "9b3ad136-13f7-4083-9279-e2ca32411e1b",
   "metadata": {},
   "outputs": [
    {
     "name": "stdout",
     "output_type": "stream",
     "text": [
      "Arizona (-->5)\n"
     ]
    }
   ],
   "source": [
    "min_store = store_sales.loc[store_sales['Apr'].idxmin()] # min April city value \n",
    "print(f\"{min_store['city']} (-->{min_store['Apr']})\")"
   ]
  },
  {
   "cell_type": "code",
   "execution_count": 39,
   "id": "4ecbec2a-165f-4f12-8f51-b7d1bb834130",
   "metadata": {},
   "outputs": [
    {
     "name": "stdout",
     "output_type": "stream",
     "text": [
      "Number of stores in each city with average monthly sales > 15:\n"
     ]
    },
    {
     "data": {
      "text/plain": [
       "city\n",
       "Arizona       13\n",
       "California    13\n",
       "Texas          9\n",
       "Name: store_id, dtype: int64"
      ]
     },
     "execution_count": 39,
     "metadata": {},
     "output_type": "execute_result"
    }
   ],
   "source": [
    "store_sales['avg_monthly_sales'] = store_sales[['Jan','Feb','Mar','Apr','May','Jun','July','Aug','Sep','Oct','Nov','Dec']].mean(axis=1)\n",
    "stores_15 = store_sales[store_sales['avg_monthly_sales'] > 15]   # Filter stores with avg monthly sales > 15\n",
    "count_city = stores_15.groupby('city')['store_id'].count()   # Count number of such stores in each city\n",
    "print(\"Number of stores in each city with average monthly sales > 15:\")\n",
    "count_city\n"
   ]
  },
  {
   "cell_type": "code",
   "execution_count": 40,
   "id": "9c48f22f-855a-4c3c-8255-8d6d01d21859",
   "metadata": {},
   "outputs": [
    {
     "name": "stdout",
     "output_type": "stream",
     "text": [
      "   store_id        city  Jan  Feb  Mar  Apr  May  Jun  July  Aug  Sep  Oct  \\\n",
      "1       S_2  California   12   19   15   15   11   19     7   15   10   11   \n",
      "2       S_3  California   16   16   14   19   23    6    13   13   15   14   \n",
      "5       S_6  California   14   21   18   20   21    5    18   24    7   12   \n",
      "7       S_8  California   15    8    5   15   12   21    17   19   13    6   \n",
      "9      S_10  California   14   23   20   11   12   13    19    6    5   22   \n",
      "11     S_12  California    6   18   21    8    5    8    11    9   21   17   \n",
      "15     S_16  California   18    9    8    9   21    7    19   18   21    7   \n",
      "16     S_17  California   13    8    7   22   21   24    18    5   24   18   \n",
      "18     S_19  California    7    6   17    8   21   11    20    9   11   22   \n",
      "19     S_20  California   11   21   20    6    5   24    14   23   19   10   \n",
      "23     S_24  California    5   17   19   19   19   14    18   23   23    5   \n",
      "25     S_26  California   24   11   16   11   13   14    10   15    7   15   \n",
      "26     S_27  California   24   19   13   24    8   12     6   21   10   10   \n",
      "27     S_28  California   10   15   24   21    9   22    10   19   13   18   \n",
      "28     S_29  California   15    8   10   16   12   10    21   21    7   13   \n",
      "30     S_31  California   14   19    6   15   24   13    14   23   13   24   \n",
      "34     S_35  California   10    7   24   15   12   24    12   17   10   14   \n",
      "36     S_37  California   24   16    9    6    6   22     6    8   24    6   \n",
      "37     S_38  California   21   10   13   11   11   14    24   24   24   21   \n",
      "44     S_45  California   19   17    9   17    8    8    16    5   21   20   \n",
      "48     S_49  California   22   22   10   11   17   13    18   11   12   20   \n",
      "58     S_59  California   15   13   20    8    7   12    15    8   24    9   \n",
      "59     S_60  California    6   21   22    8    6   17    21   12   14   15   \n",
      "61     S_62  California   16   21    6   22   22    9    21   21   22   17   \n",
      "63     S_64  California   12   18    9   19    5    7    22   23   19    6   \n",
      "67     S_68  California   23   15   16   14    8   12    10   21   10    7   \n",
      "72     S_73  California   20   24   24   18    7   22    12   21   20   18   \n",
      "73     S_74  California   20   17   14    5   22    9    18   24   11   10   \n",
      "76     S_77  California    9   18   10   15   14   14    16    5   24   11   \n",
      "80     S_81  California   22    9   20   12    6   20     8   16   15   14   \n",
      "82     S_83  California   16    5    6   12   20   21    17    6   12    9   \n",
      "83     S_84  California   13   12   12    5    7   16    12   21   20   19   \n",
      "85     S_86  California   15   23   24   18   21   17    23   13   12   11   \n",
      "89     S_90  California    8   23   21   14   15    6     5   14   23    8   \n",
      "91     S_92  California   14   16   17   13   13   10    17   23    7   23   \n",
      "92     S_93  California   20   13   15   12   15   19    21   22   10   21   \n",
      "93     S_94  California   19   18   14   21    5    7     8   21   11   21   \n",
      "94     S_95  California   10   22   13   20    5    5     9   15   23   23   \n",
      "96     S_97  California   13    6    7   15   22   10    21   23   10    6   \n",
      "99    S_100  California    5   23   17   24   15   21    19   10   12   20   \n",
      "\n",
      "    Nov  Dec  total_sales  avg_monthly_sales  \n",
      "1    21   19           61          14.500000  \n",
      "2    24    8           65          15.083333  \n",
      "5    11    5           73          14.666667  \n",
      "7    24   15           43          14.166667  \n",
      "9    17   16           68          14.833333  \n",
      "11   18   22           53          13.666667  \n",
      "15    7   23           44          13.916667  \n",
      "16   12   17           50          15.750000  \n",
      "18   21    8           38          13.416667  \n",
      "19   21   22           58          16.333333  \n",
      "23   16    5           60          15.250000  \n",
      "25    5    8           62          12.416667  \n",
      "26   12   20           80          14.916667  \n",
      "27   24    6           70          15.916667  \n",
      "28    8    5           49          12.166667  \n",
      "30   10    9           54          15.333333  \n",
      "34    5   18           56          14.000000  \n",
      "36    5   11           55          11.916667  \n",
      "37   16   18           55          17.250000  \n",
      "44   12   24           62          14.666667  \n",
      "48   12    9           65          14.750000  \n",
      "58   21    6           56          13.166667  \n",
      "59   10   15           57          13.916667  \n",
      "61   16   21           65          17.833333  \n",
      "63   15   17           58          14.333333  \n",
      "67   24   17           68          14.750000  \n",
      "72   21    6           86          17.750000  \n",
      "73   20   19           56          15.750000  \n",
      "76   18   17           52          14.250000  \n",
      "80   24   10           63          14.666667  \n",
      "82   22   15           39          13.416667  \n",
      "83   22   13           42          14.333333  \n",
      "85   24   13           80          17.833333  \n",
      "89    5   21           66          13.583333  \n",
      "91   10   22           60          15.416667  \n",
      "92   23   13           60          17.000000  \n",
      "93   15    7           72          13.916667  \n",
      "94   24    7           65          14.666667  \n",
      "96   12    9           41          12.833333  \n",
      "99    5    9           69          15.000000  \n"
     ]
    }
   ],
   "source": [
    "california_sales = store_sales[(store_sales['city'] == 'California') &(store_sales[['Jan','Feb','Mar','Apr','May','Jun','July','Aug','Sep','Oct','Nov','Dec']] > 20).any(axis=1)]\n",
    "print(california_sales) # sales of california with sales>20\n"
   ]
  },
  {
   "cell_type": "markdown",
   "id": "5e19f865-750c-4d5b-9091-a7d68920db46",
   "metadata": {},
   "source": [
    "PART-4"
   ]
  },
  {
   "cell_type": "code",
   "execution_count": 44,
   "id": "42f4a146-c7a5-471f-87fa-2ac6bc176aac",
   "metadata": {},
   "outputs": [
    {
     "name": "stdout",
     "output_type": "stream",
     "text": [
      "                  Jan                Feb                Mar          \\\n",
      "                 mean max min       mean max min       mean max min   \n",
      "city                                                                  \n",
      "Arizona     15.500000  23   7  15.272727  24   6  14.545455  24   5   \n",
      "California  14.744186  24   5  15.534884  24   5  14.627907  24   5   \n",
      "Texas       13.457143  24   5  14.428571  24   5  14.485714  24   5   \n",
      "\n",
      "                  Apr  ... Sep        Oct                Nov          \\\n",
      "                 mean  ... min       mean max min       mean max min   \n",
      "city                   ...                                             \n",
      "Arizona     14.954545  ...   8  14.954545  24   5  16.409091  24   5   \n",
      "California  13.976744  ...   5  14.279070  24   5  15.279070  24   5   \n",
      "Texas       15.057143  ...   6  13.342857  24   5  14.657143  24   6   \n",
      "\n",
      "                  Dec          \n",
      "                 mean max min  \n",
      "city                           \n",
      "Arizona     13.318182  24   5  \n",
      "California  13.604651  24   5  \n",
      "Texas       13.685714  24   5  \n",
      "\n",
      "[3 rows x 36 columns]\n"
     ]
    }
   ],
   "source": [
    "month= ['Jan','Feb','Mar','Apr','May','Jun','July','Aug','Sep','Oct','Nov','Dec'] # months cols\n",
    "group = store_sales.groupby('city')[month] # group city with cols\n",
    "city= group.agg(['mean','max','min']) # apply statistics to group\n",
    "print(city)"
   ]
  },
  {
   "cell_type": "code",
   "execution_count": 52,
   "id": "f0da2e1b-10ae-4d3d-9678-8ef19eec1f35",
   "metadata": {},
   "outputs": [
    {
     "name": "stdout",
     "output_type": "stream",
     "text": [
      "California (14.627906976744185)\n"
     ]
    }
   ],
   "source": [
    "# If you grouped with monthly columns\n",
    "group = store_sales.groupby('city')[['Jan','Feb','Mar','Apr','May','Jun','July','Aug','Sep','Oct','Nov','Dec']]\n",
    "# Average March sales per city\n",
    "march_val = group.mean()['Mar']  # Take the 'Mar' column AFTER .mean()\n",
    "highest_march = march_val.idxmax() \n",
    "highest_value = march_val.max()\n",
    "print(f\"{highest_march} ({highest_value})\") \n"
   ]
  },
  {
   "cell_type": "code",
   "execution_count": 54,
   "id": "15c4204a-1201-49d0-a250-8c62749ea836",
   "metadata": {},
   "outputs": [
    {
     "name": "stdout",
     "output_type": "stream",
     "text": [
      "city\n",
      "Arizona       14.965909\n",
      "California    14.577519\n",
      "Texas         14.140476\n",
      "dtype: float64\n"
     ]
    }
   ],
   "source": [
    "city_overall_avg = store_sales.groupby('city')[month].mean().mean(axis=1) #overall avg sales of cities\n",
    "print(city_overall_avg)\n"
   ]
  },
  {
   "cell_type": "code",
   "execution_count": 55,
   "id": "48a67172-d153-4061-8682-bcafdaf38b6b",
   "metadata": {},
   "outputs": [
    {
     "name": "stdout",
     "output_type": "stream",
     "text": [
      "Month with the highest overall sales: Aug (1581)\n"
     ]
    }
   ],
   "source": [
    "# Sum sales for each month across all cities\n",
    "month_totals = store_sales[month].sum()\n",
    "highest_month = month_totals.idxmax() # highest over all sales of month\n",
    "highest_month_value = month_totals.max()\n",
    "print(f\"Month with the highest overall sales: {highest_month} ({highest_month_value})\")\n"
   ]
  },
  {
   "cell_type": "code",
   "execution_count": 56,
   "id": "f1d9a128-cbeb-4cdc-a0d6-4dffe8a21153",
   "metadata": {},
   "outputs": [
    {
     "name": "stdout",
     "output_type": "stream",
     "text": [
      "city\n",
      "Arizona       Nov\n",
      "California    Aug\n",
      "Texas         Aug\n",
      "dtype: object\n"
     ]
    }
   ],
   "source": [
    "# Sum sales per city for each month\n",
    "city_month_totals = store_sales.groupby('city')[month].sum()\n",
    "# Month with maximum sales for each city\n",
    "max_month_per_city = city_month_totals.idxmax(axis=1)\n",
    "print(max_month_per_city)\n"
   ]
  },
  {
   "cell_type": "code",
   "execution_count": 59,
   "id": "29d482c3-87fa-45dc-9174-306843811cc2",
   "metadata": {},
   "outputs": [
    {
     "data": {
      "text/plain": [
       "0     14.833333\n",
       "1     14.500000\n",
       "2     15.083333\n",
       "3     11.250000\n",
       "4     13.250000\n",
       "        ...    \n",
       "95    15.416667\n",
       "96    12.833333\n",
       "97    14.000000\n",
       "98    14.416667\n",
       "99    15.000000\n",
       "Name: Average_Sales, Length: 100, dtype: float64"
      ]
     },
     "execution_count": 59,
     "metadata": {},
     "output_type": "execute_result"
    }
   ],
   "source": [
    "store_sales['Average_Sales'] = store_sales[month].mean(axis=1) #avg of s\n",
    "store_sales['Average_Sales']"
   ]
  },
  {
   "cell_type": "code",
   "execution_count": null,
   "id": "bfce46aa-9f6c-4537-b734-37bd729f7ca4",
   "metadata": {},
   "outputs": [],
   "source": []
  }
 ],
 "metadata": {
  "kernelspec": {
   "display_name": "Python (base)",
   "language": "python",
   "name": "base"
  },
  "language_info": {
   "codemirror_mode": {
    "name": "ipython",
    "version": 3
   },
   "file_extension": ".py",
   "mimetype": "text/x-python",
   "name": "python",
   "nbconvert_exporter": "python",
   "pygments_lexer": "ipython3",
   "version": "3.13.5"
  }
 },
 "nbformat": 4,
 "nbformat_minor": 5
}
